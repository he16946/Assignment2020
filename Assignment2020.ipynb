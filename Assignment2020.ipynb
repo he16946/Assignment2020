{
  "nbformat": 4,
  "nbformat_minor": 0,
  "metadata": {
    "colab": {
      "name": "Assignment2020.ipynb",
      "provenance": [],
      "collapsed_sections": [],
      "authorship_tag": "ABX9TyN8/MR3MGLpsGtp0YveGTWd",
      "include_colab_link": true
    },
    "kernelspec": {
      "name": "python3",
      "display_name": "Python 3"
    }
  },
  "cells": [
    {
      "cell_type": "markdown",
      "metadata": {
        "id": "view-in-github",
        "colab_type": "text"
      },
      "source": [
        "<a href=\"https://colab.research.google.com/github/he16946/Assignment2020/blob/main/Assignment2020.ipynb\" target=\"_parent\"><img src=\"https://colab.research.google.com/assets/colab-badge.svg\" alt=\"Open In Colab\"/></a>"
      ]
    },
    {
      "cell_type": "markdown",
      "metadata": {
        "id": "S5RtEEER2Gaj"
      },
      "source": [
        "# Parkinson's Classification"
      ]
    },
    {
      "cell_type": "markdown",
      "metadata": {
        "id": "wxLCDqghNkJC"
      },
      "source": [
        "## Info "
      ]
    },
    {
      "cell_type": "markdown",
      "metadata": {
        "id": "HQ_qecIHMpMJ"
      },
      "source": [
        "---\r\n",
        "\r\n",
        "\r\n",
        "\r\n",
        "This dataset is composed of a range of biomedical voice measurements from 31 people, 23 with Parkinson's disease (PD). *Each column in the table is a particular voice measure, and each row corresponds one of 195 voice recording from these individuals (\"name\" column)*. The main aim of the data is to discriminate healthy people from those with PD, **according to \"status\" column which is set to 0 for healthy and 1 for PD**.\r\n",
        "\r\n",
        "The data is in ASCII CSV format. The rows of the CSV file contain an instance corresponding to one voice recording. *There are around six recordings per patient, the name of the patient is identified in the first column*.\r\n",
        "\r\n",
        "\r\n",
        "\r\n",
        "---\r\n",
        "\r\n",
        "\r\n",
        "\r\n",
        "### Matrix column entries (attributes):\r\n",
        "name - ASCII subject name and recording number\r\n",
        "MDVP:Fo(Hz) - Average vocal fundamental frequency\r\n",
        "MDVP:Fhi(Hz) - Maximum vocal fundamental frequency\r\n",
        "MDVP:Flo(Hz) - Minimum vocal fundamental frequency\r\n",
        "MDVP:Jitter(%),MDVP:Jitter(Abs),MDVP:RAP,MDVP:PPQ,Jitter:DDP - Several measures of variation in fundamental frequency\r\n",
        "MDVP:Shimmer,MDVP:Shimmer(dB),Shimmer:APQ3,Shimmer:APQ5,MDVP:APQ,Shimmer:DDA - Several measures of variation in amplitude\r\n",
        "NHR,HNR - Two measures of ratio of noise to tonal components in the voice\r\n",
        "status\r\n",
        "\r\n",
        "**Health status of the subject (one) - Parkinson's, (zero) - healthy**\r\n",
        "\r\n",
        "RPDE,D2 - Two nonlinear dynamical complexity measures\r\n",
        "DFA - Signal fractal scaling exponent\r\n",
        "spread1,spread2,PPE - Three nonlinear measures of fundamental frequency variation\r\n",
        "\r\n",
        "\r\n",
        "---\r\n",
        "\r\n"
      ]
    },
    {
      "cell_type": "markdown",
      "metadata": {
        "id": "S8BG96Zl3itG"
      },
      "source": [
        "##imports"
      ]
    },
    {
      "cell_type": "code",
      "metadata": {
        "id": "rnheVBET2JDk"
      },
      "source": [
        "import pandas as pd\r\n",
        "import numpy as np\r\n",
        "import matplotlib.pyplot as plt\r\n",
        "from sklearn.model_selection import train_test_split\r\n",
        "from sklearn.ensemble import ExtraTreesClassifier\r\n",
        "from sklearn.dummy import DummyClassifier\r\n",
        "from sklearn.model_selection import (cross_validate, cross_val_score)\r\n",
        "from sklearn.metrics import make_scorer,accuracy_score\r\n",
        "from sklearn import tree\r\n",
        "from sklearn.ensemble import RandomForestClassifier\r\n",
        "from sklearn.ensemble import AdaBoostClassifier\r\n",
        "from sklearn.ensemble import GradientBoostingClassifier"
      ],
      "execution_count": 25,
      "outputs": []
    },
    {
      "cell_type": "markdown",
      "metadata": {
        "id": "6SxT26TSBFxA"
      },
      "source": [
        "### Data "
      ]
    },
    {
      "cell_type": "code",
      "metadata": {
        "id": "T5Q0lOFuIQAG"
      },
      "source": [
        "df = pd.read_csv('https://archive.ics.uci.edu/ml/machine-learning-databases/parkinsons/parkinsons.data')"
      ],
      "execution_count": 23,
      "outputs": []
    },
    {
      "cell_type": "code",
      "metadata": {
        "colab": {
          "base_uri": "https://localhost:8080/"
        },
        "id": "XqAuySt7OC-f",
        "outputId": "e65c393d-db44-49f0-a3b1-2c3e61fee18b"
      },
      "source": [
        "df.dtypes"
      ],
      "execution_count": 24,
      "outputs": [
        {
          "output_type": "execute_result",
          "data": {
            "text/plain": [
              "name                 object\n",
              "MDVP:Fo(Hz)         float64\n",
              "MDVP:Fhi(Hz)        float64\n",
              "MDVP:Flo(Hz)        float64\n",
              "MDVP:Jitter(%)      float64\n",
              "MDVP:Jitter(Abs)    float64\n",
              "MDVP:RAP            float64\n",
              "MDVP:PPQ            float64\n",
              "Jitter:DDP          float64\n",
              "MDVP:Shimmer        float64\n",
              "MDVP:Shimmer(dB)    float64\n",
              "Shimmer:APQ3        float64\n",
              "Shimmer:APQ5        float64\n",
              "MDVP:APQ            float64\n",
              "Shimmer:DDA         float64\n",
              "NHR                 float64\n",
              "HNR                 float64\n",
              "status                int64\n",
              "RPDE                float64\n",
              "DFA                 float64\n",
              "spread1             float64\n",
              "spread2             float64\n",
              "D2                  float64\n",
              "PPE                 float64\n",
              "dtype: object"
            ]
          },
          "metadata": {
            "tags": []
          },
          "execution_count": 24
        }
      ]
    },
    {
      "cell_type": "code",
      "metadata": {
        "colab": {
          "base_uri": "https://localhost:8080/",
          "height": 947
        },
        "id": "bc1RupNgaktZ",
        "outputId": "2f5c2d66-bb21-49a6-f312-ef603638d96a"
      },
      "source": [
        "df.head(30)"
      ],
      "execution_count": 4,
      "outputs": [
        {
          "output_type": "execute_result",
          "data": {
            "text/html": [
              "<div>\n",
              "<style scoped>\n",
              "    .dataframe tbody tr th:only-of-type {\n",
              "        vertical-align: middle;\n",
              "    }\n",
              "\n",
              "    .dataframe tbody tr th {\n",
              "        vertical-align: top;\n",
              "    }\n",
              "\n",
              "    .dataframe thead th {\n",
              "        text-align: right;\n",
              "    }\n",
              "</style>\n",
              "<table border=\"1\" class=\"dataframe\">\n",
              "  <thead>\n",
              "    <tr style=\"text-align: right;\">\n",
              "      <th></th>\n",
              "      <th>name</th>\n",
              "      <th>MDVP:Fo(Hz)</th>\n",
              "      <th>MDVP:Fhi(Hz)</th>\n",
              "      <th>MDVP:Flo(Hz)</th>\n",
              "      <th>MDVP:Jitter(%)</th>\n",
              "      <th>MDVP:Jitter(Abs)</th>\n",
              "      <th>MDVP:RAP</th>\n",
              "      <th>MDVP:PPQ</th>\n",
              "      <th>Jitter:DDP</th>\n",
              "      <th>MDVP:Shimmer</th>\n",
              "      <th>MDVP:Shimmer(dB)</th>\n",
              "      <th>Shimmer:APQ3</th>\n",
              "      <th>Shimmer:APQ5</th>\n",
              "      <th>MDVP:APQ</th>\n",
              "      <th>Shimmer:DDA</th>\n",
              "      <th>NHR</th>\n",
              "      <th>HNR</th>\n",
              "      <th>status</th>\n",
              "      <th>RPDE</th>\n",
              "      <th>DFA</th>\n",
              "      <th>spread1</th>\n",
              "      <th>spread2</th>\n",
              "      <th>D2</th>\n",
              "      <th>PPE</th>\n",
              "    </tr>\n",
              "  </thead>\n",
              "  <tbody>\n",
              "    <tr>\n",
              "      <th>0</th>\n",
              "      <td>phon_R01_S01_1</td>\n",
              "      <td>119.992</td>\n",
              "      <td>157.302</td>\n",
              "      <td>74.997</td>\n",
              "      <td>0.00784</td>\n",
              "      <td>0.00007</td>\n",
              "      <td>0.00370</td>\n",
              "      <td>0.00554</td>\n",
              "      <td>0.01109</td>\n",
              "      <td>0.04374</td>\n",
              "      <td>0.426</td>\n",
              "      <td>0.02182</td>\n",
              "      <td>0.03130</td>\n",
              "      <td>0.02971</td>\n",
              "      <td>0.06545</td>\n",
              "      <td>0.02211</td>\n",
              "      <td>21.033</td>\n",
              "      <td>1</td>\n",
              "      <td>0.414783</td>\n",
              "      <td>0.815285</td>\n",
              "      <td>-4.813031</td>\n",
              "      <td>0.266482</td>\n",
              "      <td>2.301442</td>\n",
              "      <td>0.284654</td>\n",
              "    </tr>\n",
              "    <tr>\n",
              "      <th>1</th>\n",
              "      <td>phon_R01_S01_2</td>\n",
              "      <td>122.400</td>\n",
              "      <td>148.650</td>\n",
              "      <td>113.819</td>\n",
              "      <td>0.00968</td>\n",
              "      <td>0.00008</td>\n",
              "      <td>0.00465</td>\n",
              "      <td>0.00696</td>\n",
              "      <td>0.01394</td>\n",
              "      <td>0.06134</td>\n",
              "      <td>0.626</td>\n",
              "      <td>0.03134</td>\n",
              "      <td>0.04518</td>\n",
              "      <td>0.04368</td>\n",
              "      <td>0.09403</td>\n",
              "      <td>0.01929</td>\n",
              "      <td>19.085</td>\n",
              "      <td>1</td>\n",
              "      <td>0.458359</td>\n",
              "      <td>0.819521</td>\n",
              "      <td>-4.075192</td>\n",
              "      <td>0.335590</td>\n",
              "      <td>2.486855</td>\n",
              "      <td>0.368674</td>\n",
              "    </tr>\n",
              "    <tr>\n",
              "      <th>2</th>\n",
              "      <td>phon_R01_S01_3</td>\n",
              "      <td>116.682</td>\n",
              "      <td>131.111</td>\n",
              "      <td>111.555</td>\n",
              "      <td>0.01050</td>\n",
              "      <td>0.00009</td>\n",
              "      <td>0.00544</td>\n",
              "      <td>0.00781</td>\n",
              "      <td>0.01633</td>\n",
              "      <td>0.05233</td>\n",
              "      <td>0.482</td>\n",
              "      <td>0.02757</td>\n",
              "      <td>0.03858</td>\n",
              "      <td>0.03590</td>\n",
              "      <td>0.08270</td>\n",
              "      <td>0.01309</td>\n",
              "      <td>20.651</td>\n",
              "      <td>1</td>\n",
              "      <td>0.429895</td>\n",
              "      <td>0.825288</td>\n",
              "      <td>-4.443179</td>\n",
              "      <td>0.311173</td>\n",
              "      <td>2.342259</td>\n",
              "      <td>0.332634</td>\n",
              "    </tr>\n",
              "    <tr>\n",
              "      <th>3</th>\n",
              "      <td>phon_R01_S01_4</td>\n",
              "      <td>116.676</td>\n",
              "      <td>137.871</td>\n",
              "      <td>111.366</td>\n",
              "      <td>0.00997</td>\n",
              "      <td>0.00009</td>\n",
              "      <td>0.00502</td>\n",
              "      <td>0.00698</td>\n",
              "      <td>0.01505</td>\n",
              "      <td>0.05492</td>\n",
              "      <td>0.517</td>\n",
              "      <td>0.02924</td>\n",
              "      <td>0.04005</td>\n",
              "      <td>0.03772</td>\n",
              "      <td>0.08771</td>\n",
              "      <td>0.01353</td>\n",
              "      <td>20.644</td>\n",
              "      <td>1</td>\n",
              "      <td>0.434969</td>\n",
              "      <td>0.819235</td>\n",
              "      <td>-4.117501</td>\n",
              "      <td>0.334147</td>\n",
              "      <td>2.405554</td>\n",
              "      <td>0.368975</td>\n",
              "    </tr>\n",
              "    <tr>\n",
              "      <th>4</th>\n",
              "      <td>phon_R01_S01_5</td>\n",
              "      <td>116.014</td>\n",
              "      <td>141.781</td>\n",
              "      <td>110.655</td>\n",
              "      <td>0.01284</td>\n",
              "      <td>0.00011</td>\n",
              "      <td>0.00655</td>\n",
              "      <td>0.00908</td>\n",
              "      <td>0.01966</td>\n",
              "      <td>0.06425</td>\n",
              "      <td>0.584</td>\n",
              "      <td>0.03490</td>\n",
              "      <td>0.04825</td>\n",
              "      <td>0.04465</td>\n",
              "      <td>0.10470</td>\n",
              "      <td>0.01767</td>\n",
              "      <td>19.649</td>\n",
              "      <td>1</td>\n",
              "      <td>0.417356</td>\n",
              "      <td>0.823484</td>\n",
              "      <td>-3.747787</td>\n",
              "      <td>0.234513</td>\n",
              "      <td>2.332180</td>\n",
              "      <td>0.410335</td>\n",
              "    </tr>\n",
              "    <tr>\n",
              "      <th>5</th>\n",
              "      <td>phon_R01_S01_6</td>\n",
              "      <td>120.552</td>\n",
              "      <td>131.162</td>\n",
              "      <td>113.787</td>\n",
              "      <td>0.00968</td>\n",
              "      <td>0.00008</td>\n",
              "      <td>0.00463</td>\n",
              "      <td>0.00750</td>\n",
              "      <td>0.01388</td>\n",
              "      <td>0.04701</td>\n",
              "      <td>0.456</td>\n",
              "      <td>0.02328</td>\n",
              "      <td>0.03526</td>\n",
              "      <td>0.03243</td>\n",
              "      <td>0.06985</td>\n",
              "      <td>0.01222</td>\n",
              "      <td>21.378</td>\n",
              "      <td>1</td>\n",
              "      <td>0.415564</td>\n",
              "      <td>0.825069</td>\n",
              "      <td>-4.242867</td>\n",
              "      <td>0.299111</td>\n",
              "      <td>2.187560</td>\n",
              "      <td>0.357775</td>\n",
              "    </tr>\n",
              "    <tr>\n",
              "      <th>6</th>\n",
              "      <td>phon_R01_S02_1</td>\n",
              "      <td>120.267</td>\n",
              "      <td>137.244</td>\n",
              "      <td>114.820</td>\n",
              "      <td>0.00333</td>\n",
              "      <td>0.00003</td>\n",
              "      <td>0.00155</td>\n",
              "      <td>0.00202</td>\n",
              "      <td>0.00466</td>\n",
              "      <td>0.01608</td>\n",
              "      <td>0.140</td>\n",
              "      <td>0.00779</td>\n",
              "      <td>0.00937</td>\n",
              "      <td>0.01351</td>\n",
              "      <td>0.02337</td>\n",
              "      <td>0.00607</td>\n",
              "      <td>24.886</td>\n",
              "      <td>1</td>\n",
              "      <td>0.596040</td>\n",
              "      <td>0.764112</td>\n",
              "      <td>-5.634322</td>\n",
              "      <td>0.257682</td>\n",
              "      <td>1.854785</td>\n",
              "      <td>0.211756</td>\n",
              "    </tr>\n",
              "    <tr>\n",
              "      <th>7</th>\n",
              "      <td>phon_R01_S02_2</td>\n",
              "      <td>107.332</td>\n",
              "      <td>113.840</td>\n",
              "      <td>104.315</td>\n",
              "      <td>0.00290</td>\n",
              "      <td>0.00003</td>\n",
              "      <td>0.00144</td>\n",
              "      <td>0.00182</td>\n",
              "      <td>0.00431</td>\n",
              "      <td>0.01567</td>\n",
              "      <td>0.134</td>\n",
              "      <td>0.00829</td>\n",
              "      <td>0.00946</td>\n",
              "      <td>0.01256</td>\n",
              "      <td>0.02487</td>\n",
              "      <td>0.00344</td>\n",
              "      <td>26.892</td>\n",
              "      <td>1</td>\n",
              "      <td>0.637420</td>\n",
              "      <td>0.763262</td>\n",
              "      <td>-6.167603</td>\n",
              "      <td>0.183721</td>\n",
              "      <td>2.064693</td>\n",
              "      <td>0.163755</td>\n",
              "    </tr>\n",
              "    <tr>\n",
              "      <th>8</th>\n",
              "      <td>phon_R01_S02_3</td>\n",
              "      <td>95.730</td>\n",
              "      <td>132.068</td>\n",
              "      <td>91.754</td>\n",
              "      <td>0.00551</td>\n",
              "      <td>0.00006</td>\n",
              "      <td>0.00293</td>\n",
              "      <td>0.00332</td>\n",
              "      <td>0.00880</td>\n",
              "      <td>0.02093</td>\n",
              "      <td>0.191</td>\n",
              "      <td>0.01073</td>\n",
              "      <td>0.01277</td>\n",
              "      <td>0.01717</td>\n",
              "      <td>0.03218</td>\n",
              "      <td>0.01070</td>\n",
              "      <td>21.812</td>\n",
              "      <td>1</td>\n",
              "      <td>0.615551</td>\n",
              "      <td>0.773587</td>\n",
              "      <td>-5.498678</td>\n",
              "      <td>0.327769</td>\n",
              "      <td>2.322511</td>\n",
              "      <td>0.231571</td>\n",
              "    </tr>\n",
              "    <tr>\n",
              "      <th>9</th>\n",
              "      <td>phon_R01_S02_4</td>\n",
              "      <td>95.056</td>\n",
              "      <td>120.103</td>\n",
              "      <td>91.226</td>\n",
              "      <td>0.00532</td>\n",
              "      <td>0.00006</td>\n",
              "      <td>0.00268</td>\n",
              "      <td>0.00332</td>\n",
              "      <td>0.00803</td>\n",
              "      <td>0.02838</td>\n",
              "      <td>0.255</td>\n",
              "      <td>0.01441</td>\n",
              "      <td>0.01725</td>\n",
              "      <td>0.02444</td>\n",
              "      <td>0.04324</td>\n",
              "      <td>0.01022</td>\n",
              "      <td>21.862</td>\n",
              "      <td>1</td>\n",
              "      <td>0.547037</td>\n",
              "      <td>0.798463</td>\n",
              "      <td>-5.011879</td>\n",
              "      <td>0.325996</td>\n",
              "      <td>2.432792</td>\n",
              "      <td>0.271362</td>\n",
              "    </tr>\n",
              "    <tr>\n",
              "      <th>10</th>\n",
              "      <td>phon_R01_S02_5</td>\n",
              "      <td>88.333</td>\n",
              "      <td>112.240</td>\n",
              "      <td>84.072</td>\n",
              "      <td>0.00505</td>\n",
              "      <td>0.00006</td>\n",
              "      <td>0.00254</td>\n",
              "      <td>0.00330</td>\n",
              "      <td>0.00763</td>\n",
              "      <td>0.02143</td>\n",
              "      <td>0.197</td>\n",
              "      <td>0.01079</td>\n",
              "      <td>0.01342</td>\n",
              "      <td>0.01892</td>\n",
              "      <td>0.03237</td>\n",
              "      <td>0.01166</td>\n",
              "      <td>21.118</td>\n",
              "      <td>1</td>\n",
              "      <td>0.611137</td>\n",
              "      <td>0.776156</td>\n",
              "      <td>-5.249770</td>\n",
              "      <td>0.391002</td>\n",
              "      <td>2.407313</td>\n",
              "      <td>0.249740</td>\n",
              "    </tr>\n",
              "    <tr>\n",
              "      <th>11</th>\n",
              "      <td>phon_R01_S02_6</td>\n",
              "      <td>91.904</td>\n",
              "      <td>115.871</td>\n",
              "      <td>86.292</td>\n",
              "      <td>0.00540</td>\n",
              "      <td>0.00006</td>\n",
              "      <td>0.00281</td>\n",
              "      <td>0.00336</td>\n",
              "      <td>0.00844</td>\n",
              "      <td>0.02752</td>\n",
              "      <td>0.249</td>\n",
              "      <td>0.01424</td>\n",
              "      <td>0.01641</td>\n",
              "      <td>0.02214</td>\n",
              "      <td>0.04272</td>\n",
              "      <td>0.01141</td>\n",
              "      <td>21.414</td>\n",
              "      <td>1</td>\n",
              "      <td>0.583390</td>\n",
              "      <td>0.792520</td>\n",
              "      <td>-4.960234</td>\n",
              "      <td>0.363566</td>\n",
              "      <td>2.642476</td>\n",
              "      <td>0.275931</td>\n",
              "    </tr>\n",
              "    <tr>\n",
              "      <th>12</th>\n",
              "      <td>phon_R01_S04_1</td>\n",
              "      <td>136.926</td>\n",
              "      <td>159.866</td>\n",
              "      <td>131.276</td>\n",
              "      <td>0.00293</td>\n",
              "      <td>0.00002</td>\n",
              "      <td>0.00118</td>\n",
              "      <td>0.00153</td>\n",
              "      <td>0.00355</td>\n",
              "      <td>0.01259</td>\n",
              "      <td>0.112</td>\n",
              "      <td>0.00656</td>\n",
              "      <td>0.00717</td>\n",
              "      <td>0.01140</td>\n",
              "      <td>0.01968</td>\n",
              "      <td>0.00581</td>\n",
              "      <td>25.703</td>\n",
              "      <td>1</td>\n",
              "      <td>0.460600</td>\n",
              "      <td>0.646846</td>\n",
              "      <td>-6.547148</td>\n",
              "      <td>0.152813</td>\n",
              "      <td>2.041277</td>\n",
              "      <td>0.138512</td>\n",
              "    </tr>\n",
              "    <tr>\n",
              "      <th>13</th>\n",
              "      <td>phon_R01_S04_2</td>\n",
              "      <td>139.173</td>\n",
              "      <td>179.139</td>\n",
              "      <td>76.556</td>\n",
              "      <td>0.00390</td>\n",
              "      <td>0.00003</td>\n",
              "      <td>0.00165</td>\n",
              "      <td>0.00208</td>\n",
              "      <td>0.00496</td>\n",
              "      <td>0.01642</td>\n",
              "      <td>0.154</td>\n",
              "      <td>0.00728</td>\n",
              "      <td>0.00932</td>\n",
              "      <td>0.01797</td>\n",
              "      <td>0.02184</td>\n",
              "      <td>0.01041</td>\n",
              "      <td>24.889</td>\n",
              "      <td>1</td>\n",
              "      <td>0.430166</td>\n",
              "      <td>0.665833</td>\n",
              "      <td>-5.660217</td>\n",
              "      <td>0.254989</td>\n",
              "      <td>2.519422</td>\n",
              "      <td>0.199889</td>\n",
              "    </tr>\n",
              "    <tr>\n",
              "      <th>14</th>\n",
              "      <td>phon_R01_S04_3</td>\n",
              "      <td>152.845</td>\n",
              "      <td>163.305</td>\n",
              "      <td>75.836</td>\n",
              "      <td>0.00294</td>\n",
              "      <td>0.00002</td>\n",
              "      <td>0.00121</td>\n",
              "      <td>0.00149</td>\n",
              "      <td>0.00364</td>\n",
              "      <td>0.01828</td>\n",
              "      <td>0.158</td>\n",
              "      <td>0.01064</td>\n",
              "      <td>0.00972</td>\n",
              "      <td>0.01246</td>\n",
              "      <td>0.03191</td>\n",
              "      <td>0.00609</td>\n",
              "      <td>24.922</td>\n",
              "      <td>1</td>\n",
              "      <td>0.474791</td>\n",
              "      <td>0.654027</td>\n",
              "      <td>-6.105098</td>\n",
              "      <td>0.203653</td>\n",
              "      <td>2.125618</td>\n",
              "      <td>0.170100</td>\n",
              "    </tr>\n",
              "    <tr>\n",
              "      <th>15</th>\n",
              "      <td>phon_R01_S04_4</td>\n",
              "      <td>142.167</td>\n",
              "      <td>217.455</td>\n",
              "      <td>83.159</td>\n",
              "      <td>0.00369</td>\n",
              "      <td>0.00003</td>\n",
              "      <td>0.00157</td>\n",
              "      <td>0.00203</td>\n",
              "      <td>0.00471</td>\n",
              "      <td>0.01503</td>\n",
              "      <td>0.126</td>\n",
              "      <td>0.00772</td>\n",
              "      <td>0.00888</td>\n",
              "      <td>0.01359</td>\n",
              "      <td>0.02316</td>\n",
              "      <td>0.00839</td>\n",
              "      <td>25.175</td>\n",
              "      <td>1</td>\n",
              "      <td>0.565924</td>\n",
              "      <td>0.658245</td>\n",
              "      <td>-5.340115</td>\n",
              "      <td>0.210185</td>\n",
              "      <td>2.205546</td>\n",
              "      <td>0.234589</td>\n",
              "    </tr>\n",
              "    <tr>\n",
              "      <th>16</th>\n",
              "      <td>phon_R01_S04_5</td>\n",
              "      <td>144.188</td>\n",
              "      <td>349.259</td>\n",
              "      <td>82.764</td>\n",
              "      <td>0.00544</td>\n",
              "      <td>0.00004</td>\n",
              "      <td>0.00211</td>\n",
              "      <td>0.00292</td>\n",
              "      <td>0.00632</td>\n",
              "      <td>0.02047</td>\n",
              "      <td>0.192</td>\n",
              "      <td>0.00969</td>\n",
              "      <td>0.01200</td>\n",
              "      <td>0.02074</td>\n",
              "      <td>0.02908</td>\n",
              "      <td>0.01859</td>\n",
              "      <td>22.333</td>\n",
              "      <td>1</td>\n",
              "      <td>0.567380</td>\n",
              "      <td>0.644692</td>\n",
              "      <td>-5.440040</td>\n",
              "      <td>0.239764</td>\n",
              "      <td>2.264501</td>\n",
              "      <td>0.218164</td>\n",
              "    </tr>\n",
              "    <tr>\n",
              "      <th>17</th>\n",
              "      <td>phon_R01_S04_6</td>\n",
              "      <td>168.778</td>\n",
              "      <td>232.181</td>\n",
              "      <td>75.603</td>\n",
              "      <td>0.00718</td>\n",
              "      <td>0.00004</td>\n",
              "      <td>0.00284</td>\n",
              "      <td>0.00387</td>\n",
              "      <td>0.00853</td>\n",
              "      <td>0.03327</td>\n",
              "      <td>0.348</td>\n",
              "      <td>0.01441</td>\n",
              "      <td>0.01893</td>\n",
              "      <td>0.03430</td>\n",
              "      <td>0.04322</td>\n",
              "      <td>0.02919</td>\n",
              "      <td>20.376</td>\n",
              "      <td>1</td>\n",
              "      <td>0.631099</td>\n",
              "      <td>0.605417</td>\n",
              "      <td>-2.931070</td>\n",
              "      <td>0.434326</td>\n",
              "      <td>3.007463</td>\n",
              "      <td>0.430788</td>\n",
              "    </tr>\n",
              "    <tr>\n",
              "      <th>18</th>\n",
              "      <td>phon_R01_S05_1</td>\n",
              "      <td>153.046</td>\n",
              "      <td>175.829</td>\n",
              "      <td>68.623</td>\n",
              "      <td>0.00742</td>\n",
              "      <td>0.00005</td>\n",
              "      <td>0.00364</td>\n",
              "      <td>0.00432</td>\n",
              "      <td>0.01092</td>\n",
              "      <td>0.05517</td>\n",
              "      <td>0.542</td>\n",
              "      <td>0.02471</td>\n",
              "      <td>0.03572</td>\n",
              "      <td>0.05767</td>\n",
              "      <td>0.07413</td>\n",
              "      <td>0.03160</td>\n",
              "      <td>17.280</td>\n",
              "      <td>1</td>\n",
              "      <td>0.665318</td>\n",
              "      <td>0.719467</td>\n",
              "      <td>-3.949079</td>\n",
              "      <td>0.357870</td>\n",
              "      <td>3.109010</td>\n",
              "      <td>0.377429</td>\n",
              "    </tr>\n",
              "    <tr>\n",
              "      <th>19</th>\n",
              "      <td>phon_R01_S05_2</td>\n",
              "      <td>156.405</td>\n",
              "      <td>189.398</td>\n",
              "      <td>142.822</td>\n",
              "      <td>0.00768</td>\n",
              "      <td>0.00005</td>\n",
              "      <td>0.00372</td>\n",
              "      <td>0.00399</td>\n",
              "      <td>0.01116</td>\n",
              "      <td>0.03995</td>\n",
              "      <td>0.348</td>\n",
              "      <td>0.01721</td>\n",
              "      <td>0.02374</td>\n",
              "      <td>0.04310</td>\n",
              "      <td>0.05164</td>\n",
              "      <td>0.03365</td>\n",
              "      <td>17.153</td>\n",
              "      <td>1</td>\n",
              "      <td>0.649554</td>\n",
              "      <td>0.686080</td>\n",
              "      <td>-4.554466</td>\n",
              "      <td>0.340176</td>\n",
              "      <td>2.856676</td>\n",
              "      <td>0.322111</td>\n",
              "    </tr>\n",
              "    <tr>\n",
              "      <th>20</th>\n",
              "      <td>phon_R01_S05_3</td>\n",
              "      <td>153.848</td>\n",
              "      <td>165.738</td>\n",
              "      <td>65.782</td>\n",
              "      <td>0.00840</td>\n",
              "      <td>0.00005</td>\n",
              "      <td>0.00428</td>\n",
              "      <td>0.00450</td>\n",
              "      <td>0.01285</td>\n",
              "      <td>0.03810</td>\n",
              "      <td>0.328</td>\n",
              "      <td>0.01667</td>\n",
              "      <td>0.02383</td>\n",
              "      <td>0.04055</td>\n",
              "      <td>0.05000</td>\n",
              "      <td>0.03871</td>\n",
              "      <td>17.536</td>\n",
              "      <td>1</td>\n",
              "      <td>0.660125</td>\n",
              "      <td>0.704087</td>\n",
              "      <td>-4.095442</td>\n",
              "      <td>0.262564</td>\n",
              "      <td>2.739710</td>\n",
              "      <td>0.365391</td>\n",
              "    </tr>\n",
              "    <tr>\n",
              "      <th>21</th>\n",
              "      <td>phon_R01_S05_4</td>\n",
              "      <td>153.880</td>\n",
              "      <td>172.860</td>\n",
              "      <td>78.128</td>\n",
              "      <td>0.00480</td>\n",
              "      <td>0.00003</td>\n",
              "      <td>0.00232</td>\n",
              "      <td>0.00267</td>\n",
              "      <td>0.00696</td>\n",
              "      <td>0.04137</td>\n",
              "      <td>0.370</td>\n",
              "      <td>0.02021</td>\n",
              "      <td>0.02591</td>\n",
              "      <td>0.04525</td>\n",
              "      <td>0.06062</td>\n",
              "      <td>0.01849</td>\n",
              "      <td>19.493</td>\n",
              "      <td>1</td>\n",
              "      <td>0.629017</td>\n",
              "      <td>0.698951</td>\n",
              "      <td>-5.186960</td>\n",
              "      <td>0.237622</td>\n",
              "      <td>2.557536</td>\n",
              "      <td>0.259765</td>\n",
              "    </tr>\n",
              "    <tr>\n",
              "      <th>22</th>\n",
              "      <td>phon_R01_S05_5</td>\n",
              "      <td>167.930</td>\n",
              "      <td>193.221</td>\n",
              "      <td>79.068</td>\n",
              "      <td>0.00442</td>\n",
              "      <td>0.00003</td>\n",
              "      <td>0.00220</td>\n",
              "      <td>0.00247</td>\n",
              "      <td>0.00661</td>\n",
              "      <td>0.04351</td>\n",
              "      <td>0.377</td>\n",
              "      <td>0.02228</td>\n",
              "      <td>0.02540</td>\n",
              "      <td>0.04246</td>\n",
              "      <td>0.06685</td>\n",
              "      <td>0.01280</td>\n",
              "      <td>22.468</td>\n",
              "      <td>1</td>\n",
              "      <td>0.619060</td>\n",
              "      <td>0.679834</td>\n",
              "      <td>-4.330956</td>\n",
              "      <td>0.262384</td>\n",
              "      <td>2.916777</td>\n",
              "      <td>0.285695</td>\n",
              "    </tr>\n",
              "    <tr>\n",
              "      <th>23</th>\n",
              "      <td>phon_R01_S05_6</td>\n",
              "      <td>173.917</td>\n",
              "      <td>192.735</td>\n",
              "      <td>86.180</td>\n",
              "      <td>0.00476</td>\n",
              "      <td>0.00003</td>\n",
              "      <td>0.00221</td>\n",
              "      <td>0.00258</td>\n",
              "      <td>0.00663</td>\n",
              "      <td>0.04192</td>\n",
              "      <td>0.364</td>\n",
              "      <td>0.02187</td>\n",
              "      <td>0.02470</td>\n",
              "      <td>0.03772</td>\n",
              "      <td>0.06562</td>\n",
              "      <td>0.01840</td>\n",
              "      <td>20.422</td>\n",
              "      <td>1</td>\n",
              "      <td>0.537264</td>\n",
              "      <td>0.686894</td>\n",
              "      <td>-5.248776</td>\n",
              "      <td>0.210279</td>\n",
              "      <td>2.547508</td>\n",
              "      <td>0.253556</td>\n",
              "    </tr>\n",
              "    <tr>\n",
              "      <th>24</th>\n",
              "      <td>phon_R01_S06_1</td>\n",
              "      <td>163.656</td>\n",
              "      <td>200.841</td>\n",
              "      <td>76.779</td>\n",
              "      <td>0.00742</td>\n",
              "      <td>0.00005</td>\n",
              "      <td>0.00380</td>\n",
              "      <td>0.00390</td>\n",
              "      <td>0.01140</td>\n",
              "      <td>0.01659</td>\n",
              "      <td>0.164</td>\n",
              "      <td>0.00738</td>\n",
              "      <td>0.00948</td>\n",
              "      <td>0.01497</td>\n",
              "      <td>0.02214</td>\n",
              "      <td>0.01778</td>\n",
              "      <td>23.831</td>\n",
              "      <td>1</td>\n",
              "      <td>0.397937</td>\n",
              "      <td>0.732479</td>\n",
              "      <td>-5.557447</td>\n",
              "      <td>0.220890</td>\n",
              "      <td>2.692176</td>\n",
              "      <td>0.215961</td>\n",
              "    </tr>\n",
              "    <tr>\n",
              "      <th>25</th>\n",
              "      <td>phon_R01_S06_2</td>\n",
              "      <td>104.400</td>\n",
              "      <td>206.002</td>\n",
              "      <td>77.968</td>\n",
              "      <td>0.00633</td>\n",
              "      <td>0.00006</td>\n",
              "      <td>0.00316</td>\n",
              "      <td>0.00375</td>\n",
              "      <td>0.00948</td>\n",
              "      <td>0.03767</td>\n",
              "      <td>0.381</td>\n",
              "      <td>0.01732</td>\n",
              "      <td>0.02245</td>\n",
              "      <td>0.03780</td>\n",
              "      <td>0.05197</td>\n",
              "      <td>0.02887</td>\n",
              "      <td>22.066</td>\n",
              "      <td>1</td>\n",
              "      <td>0.522746</td>\n",
              "      <td>0.737948</td>\n",
              "      <td>-5.571843</td>\n",
              "      <td>0.236853</td>\n",
              "      <td>2.846369</td>\n",
              "      <td>0.219514</td>\n",
              "    </tr>\n",
              "    <tr>\n",
              "      <th>26</th>\n",
              "      <td>phon_R01_S06_3</td>\n",
              "      <td>171.041</td>\n",
              "      <td>208.313</td>\n",
              "      <td>75.501</td>\n",
              "      <td>0.00455</td>\n",
              "      <td>0.00003</td>\n",
              "      <td>0.00250</td>\n",
              "      <td>0.00234</td>\n",
              "      <td>0.00750</td>\n",
              "      <td>0.01966</td>\n",
              "      <td>0.186</td>\n",
              "      <td>0.00889</td>\n",
              "      <td>0.01169</td>\n",
              "      <td>0.01872</td>\n",
              "      <td>0.02666</td>\n",
              "      <td>0.01095</td>\n",
              "      <td>25.908</td>\n",
              "      <td>1</td>\n",
              "      <td>0.418622</td>\n",
              "      <td>0.720916</td>\n",
              "      <td>-6.183590</td>\n",
              "      <td>0.226278</td>\n",
              "      <td>2.589702</td>\n",
              "      <td>0.147403</td>\n",
              "    </tr>\n",
              "    <tr>\n",
              "      <th>27</th>\n",
              "      <td>phon_R01_S06_4</td>\n",
              "      <td>146.845</td>\n",
              "      <td>208.701</td>\n",
              "      <td>81.737</td>\n",
              "      <td>0.00496</td>\n",
              "      <td>0.00003</td>\n",
              "      <td>0.00250</td>\n",
              "      <td>0.00275</td>\n",
              "      <td>0.00749</td>\n",
              "      <td>0.01919</td>\n",
              "      <td>0.198</td>\n",
              "      <td>0.00883</td>\n",
              "      <td>0.01144</td>\n",
              "      <td>0.01826</td>\n",
              "      <td>0.02650</td>\n",
              "      <td>0.01328</td>\n",
              "      <td>25.119</td>\n",
              "      <td>1</td>\n",
              "      <td>0.358773</td>\n",
              "      <td>0.726652</td>\n",
              "      <td>-6.271690</td>\n",
              "      <td>0.196102</td>\n",
              "      <td>2.314209</td>\n",
              "      <td>0.162999</td>\n",
              "    </tr>\n",
              "    <tr>\n",
              "      <th>28</th>\n",
              "      <td>phon_R01_S06_5</td>\n",
              "      <td>155.358</td>\n",
              "      <td>227.383</td>\n",
              "      <td>80.055</td>\n",
              "      <td>0.00310</td>\n",
              "      <td>0.00002</td>\n",
              "      <td>0.00159</td>\n",
              "      <td>0.00176</td>\n",
              "      <td>0.00476</td>\n",
              "      <td>0.01718</td>\n",
              "      <td>0.161</td>\n",
              "      <td>0.00769</td>\n",
              "      <td>0.01012</td>\n",
              "      <td>0.01661</td>\n",
              "      <td>0.02307</td>\n",
              "      <td>0.00677</td>\n",
              "      <td>25.970</td>\n",
              "      <td>1</td>\n",
              "      <td>0.470478</td>\n",
              "      <td>0.676258</td>\n",
              "      <td>-7.120925</td>\n",
              "      <td>0.279789</td>\n",
              "      <td>2.241742</td>\n",
              "      <td>0.108514</td>\n",
              "    </tr>\n",
              "    <tr>\n",
              "      <th>29</th>\n",
              "      <td>phon_R01_S06_6</td>\n",
              "      <td>162.568</td>\n",
              "      <td>198.346</td>\n",
              "      <td>77.630</td>\n",
              "      <td>0.00502</td>\n",
              "      <td>0.00003</td>\n",
              "      <td>0.00280</td>\n",
              "      <td>0.00253</td>\n",
              "      <td>0.00841</td>\n",
              "      <td>0.01791</td>\n",
              "      <td>0.168</td>\n",
              "      <td>0.00793</td>\n",
              "      <td>0.01057</td>\n",
              "      <td>0.01799</td>\n",
              "      <td>0.02380</td>\n",
              "      <td>0.01170</td>\n",
              "      <td>25.678</td>\n",
              "      <td>1</td>\n",
              "      <td>0.427785</td>\n",
              "      <td>0.723797</td>\n",
              "      <td>-6.635729</td>\n",
              "      <td>0.209866</td>\n",
              "      <td>1.957961</td>\n",
              "      <td>0.135242</td>\n",
              "    </tr>\n",
              "  </tbody>\n",
              "</table>\n",
              "</div>"
            ],
            "text/plain": [
              "              name  MDVP:Fo(Hz)  MDVP:Fhi(Hz)  ...   spread2        D2       PPE\n",
              "0   phon_R01_S01_1      119.992       157.302  ...  0.266482  2.301442  0.284654\n",
              "1   phon_R01_S01_2      122.400       148.650  ...  0.335590  2.486855  0.368674\n",
              "2   phon_R01_S01_3      116.682       131.111  ...  0.311173  2.342259  0.332634\n",
              "3   phon_R01_S01_4      116.676       137.871  ...  0.334147  2.405554  0.368975\n",
              "4   phon_R01_S01_5      116.014       141.781  ...  0.234513  2.332180  0.410335\n",
              "5   phon_R01_S01_6      120.552       131.162  ...  0.299111  2.187560  0.357775\n",
              "6   phon_R01_S02_1      120.267       137.244  ...  0.257682  1.854785  0.211756\n",
              "7   phon_R01_S02_2      107.332       113.840  ...  0.183721  2.064693  0.163755\n",
              "8   phon_R01_S02_3       95.730       132.068  ...  0.327769  2.322511  0.231571\n",
              "9   phon_R01_S02_4       95.056       120.103  ...  0.325996  2.432792  0.271362\n",
              "10  phon_R01_S02_5       88.333       112.240  ...  0.391002  2.407313  0.249740\n",
              "11  phon_R01_S02_6       91.904       115.871  ...  0.363566  2.642476  0.275931\n",
              "12  phon_R01_S04_1      136.926       159.866  ...  0.152813  2.041277  0.138512\n",
              "13  phon_R01_S04_2      139.173       179.139  ...  0.254989  2.519422  0.199889\n",
              "14  phon_R01_S04_3      152.845       163.305  ...  0.203653  2.125618  0.170100\n",
              "15  phon_R01_S04_4      142.167       217.455  ...  0.210185  2.205546  0.234589\n",
              "16  phon_R01_S04_5      144.188       349.259  ...  0.239764  2.264501  0.218164\n",
              "17  phon_R01_S04_6      168.778       232.181  ...  0.434326  3.007463  0.430788\n",
              "18  phon_R01_S05_1      153.046       175.829  ...  0.357870  3.109010  0.377429\n",
              "19  phon_R01_S05_2      156.405       189.398  ...  0.340176  2.856676  0.322111\n",
              "20  phon_R01_S05_3      153.848       165.738  ...  0.262564  2.739710  0.365391\n",
              "21  phon_R01_S05_4      153.880       172.860  ...  0.237622  2.557536  0.259765\n",
              "22  phon_R01_S05_5      167.930       193.221  ...  0.262384  2.916777  0.285695\n",
              "23  phon_R01_S05_6      173.917       192.735  ...  0.210279  2.547508  0.253556\n",
              "24  phon_R01_S06_1      163.656       200.841  ...  0.220890  2.692176  0.215961\n",
              "25  phon_R01_S06_2      104.400       206.002  ...  0.236853  2.846369  0.219514\n",
              "26  phon_R01_S06_3      171.041       208.313  ...  0.226278  2.589702  0.147403\n",
              "27  phon_R01_S06_4      146.845       208.701  ...  0.196102  2.314209  0.162999\n",
              "28  phon_R01_S06_5      155.358       227.383  ...  0.279789  2.241742  0.108514\n",
              "29  phon_R01_S06_6      162.568       198.346  ...  0.209866  1.957961  0.135242\n",
              "\n",
              "[30 rows x 24 columns]"
            ]
          },
          "metadata": {
            "tags": []
          },
          "execution_count": 4
        }
      ]
    },
    {
      "cell_type": "code",
      "metadata": {
        "colab": {
          "base_uri": "https://localhost:8080/"
        },
        "id": "c0lMKBXYsa1M",
        "outputId": "b44e3a18-03ec-4342-8a40-217d35a92a9c"
      },
      "source": [
        "#how imbalanced is the data?\r\n",
        "\r\n",
        "print('Positive', round(df['status'].value_counts()[1]/len(df) * 100,2), '% of the dataset')\r\n",
        "print('Healthy', round(df['status'].value_counts()[0]/len(df) * 100,2), '% of the dataset')"
      ],
      "execution_count": 5,
      "outputs": [
        {
          "output_type": "stream",
          "text": [
            "Positive 75.38 % of the dataset\n",
            "Healthy 24.62 % of the dataset\n"
          ],
          "name": "stdout"
        }
      ]
    },
    {
      "cell_type": "code",
      "metadata": {
        "colab": {
          "base_uri": "https://localhost:8080/",
          "height": 299
        },
        "id": "JCkAh_LtE8JG",
        "outputId": "2a833105-baa2-4a30-e4e7-3a5e7fa561a4"
      },
      "source": [
        "#randomize status distribution by taking random samples of data frame \r\n",
        "mixat = df.sample(n=194, replace= False, axis= 0, random_state = 36)\r\n",
        "\r\n",
        "fig1, (ax1, ax2) = plt.subplots(ncols=1, nrows=2 )\r\n",
        "\r\n",
        "ax1.scatter(range(len(df['status'])),  [1] * len(df['status']), c=df['status'], marker='_', lw=35, cmap='tab20')\r\n",
        "ax2.scatter(range(len(mixat['status'])),  [1] * len(mixat['status']), c=mixat['status'], marker='_', lw=35, cmap='tab20') \r\n",
        "\r\n",
        "ax1.set_title('Class Distribution before/after Random Sampling')"
      ],
      "execution_count": 8,
      "outputs": [
        {
          "output_type": "execute_result",
          "data": {
            "text/plain": [
              "Text(0.5, 1.0, 'Class Distribution before/after Random Sampling')"
            ]
          },
          "metadata": {
            "tags": []
          },
          "execution_count": 8
        },
        {
          "output_type": "display_data",
          "data": {
            "image/png": "[encoded data removed]",
            "text/plain": [
              "<Figure size 432x288 with 2 Axes>"
            ]
          },
          "metadata": {
            "tags": [],
            "needs_background": "light"
          }
        }
      ]
    },
    {
      "cell_type": "code",
      "metadata": {
        "id": "Lk8aqeNYFuPT"
      },
      "source": [
        "#list of target values\r\n",
        "target = mixat.pop('status')\r\n",
        "names = mixat.pop('name')\r\n",
        "\r\n",
        "#normalize df\r\n",
        "mixat = ((mixat - mixat.min())/(mixat.max()-mixat.min()))"
      ],
      "execution_count": 9,
      "outputs": []
    },
    {
      "cell_type": "code",
      "metadata": {
        "id": "gpivqBohSowS"
      },
      "source": [
        "#splitting\r\n",
        "x_train, x_test, y_train, y_test = train_test_split(mixat, target, shuffle= False, train_size = 0.8)"
      ],
      "execution_count": 10,
      "outputs": []
    },
    {
      "cell_type": "markdown",
      "metadata": {
        "id": "hAY-ugWTBKYD"
      },
      "source": [
        "###Classification"
      ]
    },
    {
      "cell_type": "code",
      "metadata": {
        "id": "ouCBiwwq9TRr"
      },
      "source": [
        "# \"Nearest Neighbors\", \"Linear SVM\", \"RBF SVM\", \"Gaussian Process\",\r\n",
        "#         \"Decision Tree\", \"Random Forest\", \"Neural Net\", \"AdaBoost\",\r\n",
        "#         \"Naive Bayes\", \"QDA\""
      ],
      "execution_count": null,
      "outputs": []
    },
    {
      "cell_type": "code",
      "metadata": {
        "colab": {
          "base_uri": "https://localhost:8080/"
        },
        "id": "J6JgS9pv4_9H",
        "outputId": "c4d30c18-70ee-49ed-b7fe-53e30d31ad4e"
      },
      "source": [
        "dt = tree.DecisionTreeClassifier()\r\n",
        "dt = dt.fit(x_train, y_train)\r\n",
        "\r\n",
        "print(accuracy_score(y_test,dt.predict(x_test)))"
      ],
      "execution_count": null,
      "outputs": [
        {
          "output_type": "stream",
          "text": [
            "0.9230769230769231\n"
          ],
          "name": "stdout"
        }
      ]
    },
    {
      "cell_type": "code",
      "metadata": {
        "colab": {
          "base_uri": "https://localhost:8080/"
        },
        "id": "iMUqE_2mwB-f",
        "outputId": "40d472a3-1c9e-4ad3-85e2-655550b5d1d6"
      },
      "source": [
        "clf = ExtraTreesClassifier(n_estimators=200, max_depth=4)\r\n",
        "clf.fit(x_train,y_train)\r\n",
        "\r\n",
        "print(accuracy_score(y_test,clf.predict(x_test)))"
      ],
      "execution_count": null,
      "outputs": [
        {
          "output_type": "stream",
          "text": [
            "0.9487179487179487\n"
          ],
          "name": "stdout"
        }
      ]
    },
    {
      "cell_type": "code",
      "metadata": {
        "colab": {
          "base_uri": "https://localhost:8080/"
        },
        "id": "-O8sMveF-4Hq",
        "outputId": "149fee78-ce86-4ef2-8af3-de1c67f5d22a"
      },
      "source": [
        "rfc = RandomForestClassifier(n_estimators=200)\r\n",
        "rfc = rfc.fit(x_train, y_train)\r\n",
        "\r\n",
        "print(accuracy_score(y_test, rfc.predict(x_test)))"
      ],
      "execution_count": null,
      "outputs": [
        {
          "output_type": "stream",
          "text": [
            "0.9487179487179487\n"
          ],
          "name": "stdout"
        }
      ]
    },
    {
      "cell_type": "code",
      "metadata": {
        "colab": {
          "base_uri": "https://localhost:8080/"
        },
        "id": "tsFTWNNRAFf9",
        "outputId": "29c3de40-2523-4798-d1ed-c02a05862373"
      },
      "source": [
        "abc = AdaBoostClassifier(n_estimators=200)\r\n",
        "\r\n",
        "abc.fit(x_train, y_train)\r\n",
        "print(accuracy_score(y_test, abc.predict(x_test)))"
      ],
      "execution_count": null,
      "outputs": [
        {
          "output_type": "stream",
          "text": [
            "0.9230769230769231\n"
          ],
          "name": "stdout"
        }
      ]
    },
    {
      "cell_type": "code",
      "metadata": {
        "colab": {
          "base_uri": "https://localhost:8080/"
        },
        "id": "K7OXEPjEAvYj",
        "outputId": "5fa47878-e7e4-4a06-ad78-455ec0c96e97"
      },
      "source": [
        "gbc = GradientBoostingClassifier(n_estimators=200, learning_rate=0.5, max_depth=2,\r\n",
        "                                 random_state=0)\r\n",
        "gbc.fit(x_train, y_train)\r\n",
        "\r\n",
        "gbc.score(x_test, y_test)"
      ],
      "execution_count": null,
      "outputs": [
        {
          "output_type": "execute_result",
          "data": {
            "text/plain": [
              "0.9230769230769231"
            ]
          },
          "metadata": {
            "tags": []
          },
          "execution_count": 15
        }
      ]
    },
    {
      "cell_type": "code",
      "metadata": {
        "colab": {
          "base_uri": "https://localhost:8080/"
        },
        "id": "wMf-l8Y2NQTz",
        "outputId": "5bee28b0-8692-4e3c-9385-748203ca30fc"
      },
      "source": [
        "from sklearn.model_selection import cross_val_score\r\n",
        "from sklearn.linear_model import LogisticRegression\r\n",
        "from sklearn.naive_bayes import GaussianNB\r\n",
        "from sklearn.ensemble import RandomForestClassifier\r\n",
        "from sklearn.ensemble import VotingClassifier\r\n",
        "from sklearn import datasets\r\n",
        "from sklearn.tree import DecisionTreeClassifier\r\n",
        "from sklearn.neighbors import KNeighborsClassifier\r\n",
        "from sklearn.svm import SVC\r\n",
        "from sklearn.ensemble import BaggingClassifier\r\n",
        "\r\n",
        "# Training classifiers\r\n",
        "bagging = BaggingClassifier(KNeighborsClassifier(),\r\n",
        "                       max_samples=0.6, max_features=0.6)\r\n",
        "knc = KNeighborsClassifier(n_neighbors=2)\r\n",
        "svc = SVC(gamma=.1, kernel='rbf', probability=True)\r\n",
        "lr = LogisticRegression(random_state=1)\r\n",
        "gnb = GaussianNB()\r\n",
        "vc = VotingClassifier(estimators=[('lr', lr),  ('gnb', gnb), ('knn', knc), \r\n",
        "                                   ('svc', svc)],  voting='soft')\r\n",
        "knc.fit(x_train, y_train)\r\n",
        "svc.fit(x_train, y_train)\r\n",
        "vc.fit(x_train, y_train)\r\n",
        "gnb.fit(x_train, y_train)\r\n",
        "lr.fit(x_train, y_train)\r\n",
        "bagging.fit(x_train, y_train)\r\n",
        "\r\n",
        "for clf, label in zip([knc, svc, vc, lr, gnb, bagging], ['K Neighbors', 'SVC','Voting Classifier', \r\n",
        "                                                'Logistic Regression', 'GaussianNB',\r\n",
        "                                                'Bagging Classifier']):\r\n",
        "  \r\n",
        "    scores = cross_val_score(clf, x_train, y_train, scoring='accuracy', cv=15)\r\n",
        "    #print(\"Accuracy: %0.3f (+/- %0.3f) [%s]\" % (scores.mean(), scores.std(), label))\r\n",
        "    predict_scores = accuracy_score(y_test,clf.predict(x_test))\r\n",
        "    #print(\"Predict on test data: %0.3f\" % predict_scores)"
      ],
      "execution_count": 63,
      "outputs": [
        {
          "output_type": "stream",
          "text": [
            "0.9290909090909092\n",
            "0.8333333333333335\n",
            "0.893939393939394\n",
            "0.8260606060606062\n",
            "0.7096969696969696\n",
            "0.9036363636363638\n"
          ],
          "name": "stdout"
        }
      ]
    },
    {
      "cell_type": "code",
      "metadata": {
        "colab": {
          "base_uri": "https://localhost:8080/"
        },
        "id": "iNfPpzivQtOI",
        "outputId": "ff023bb6-8d09-4205-e7f9-fde220e18646"
      },
      "source": [
        "gbc = GradientBoostingClassifier(n_estimators=100, learning_rate=1.0, max_depth=None)\r\n",
        "abc = AdaBoostClassifier(n_estimators=100)\r\n",
        "rfc = RandomForestClassifier(n_estimators=100, max_depth = None, min_samples_split =2,\r\n",
        "                             random_state =0, oob_score=True)\r\n",
        "etc = ExtraTreesClassifier(n_estimators=100, max_depth=None)\r\n",
        "dt = tree.DecisionTreeClassifier()\r\n",
        "\r\n",
        "dt.fit(x_train, y_train)\r\n",
        "etc.fit(x_train,y_train)\r\n",
        "rfc.fit(x_train, y_train)\r\n",
        "abc.fit(x_train, y_train)\r\n",
        "gbc.fit(x_train, y_train)\r\n",
        "\r\n",
        "for clf, label in zip([dt, etc, rfc, abc, gbc], ['Decision Tree', 'Extra Tree',\r\n",
        "                                                 'Random Forest', 'Ada Boost', 'Gradient Boost']):\r\n",
        "    scores = cross_val_score(clf, x_test, y_test, scoring='accuracy', cv=7)\r\n",
        "    predict_scores = accuracy_score(y_test,clf.predict(x_test))\r\n",
        "    print(\"Accuracy: %0.3f (+/- %0.3f) [%s]\" % (scores.mean(), scores.std(), label))\r\n",
        "    print(\"Predict on test data: %0.3f\" % predict_scores)"
      ],
      "execution_count": 51,
      "outputs": [
        {
          "output_type": "stream",
          "text": [
            "Accuracy: 0.743 (+/- 0.126) [Decision Tree]\n",
            "Predict on test data: 0.923\n",
            "Accuracy: 0.919 (+/- 0.094) [Extra Tree]\n",
            "Predict on test data: 0.949\n",
            "Accuracy: 0.919 (+/- 0.094) [Random Forest]\n",
            "Predict on test data: 0.949\n",
            "Accuracy: 0.848 (+/- 0.141) [Ada Boost]\n",
            "Predict on test data: 0.923\n",
            "Accuracy: 0.819 (+/- 0.127) [Gradient Boost]\n",
            "Predict on test data: 0.872\n"
          ],
          "name": "stdout"
        }
      ]
    },
    {
      "cell_type": "code",
      "metadata": {
        "colab": {
          "base_uri": "https://localhost:8080/"
        },
        "id": "ylP4HRuuYiVC",
        "outputId": "c73e79ff-3e4c-4686-b19c-ac5bd48a7c4d"
      },
      "source": [
        "from sklearn.ensemble import GradientBoostingRegressor\r\n",
        "from sklearn.ensemble import StackingRegressor\r\n",
        "from sklearn.linear_model import RidgeCV, LassoCV\r\n",
        "from sklearn.neighbors import KNeighborsRegressor\r\n",
        "\r\n",
        "estimators = [('ridge', RidgeCV()),\r\n",
        "              ('lasso', LassoCV(random_state=42, tol = 0.003)),\r\n",
        "              ('knr', KNeighborsRegressor(n_neighbors=20,\r\n",
        "                                          metric='euclidean'))]\r\n",
        "\r\n",
        "final_estimator = GradientBoostingRegressor(\r\n",
        "    n_estimators=25, subsample=0.5, min_samples_leaf=25, max_features=1,\r\n",
        "    random_state=42)\r\n",
        "reg = StackingRegressor(\r\n",
        "    estimators=estimators,\r\n",
        "    final_estimator=final_estimator)\r\n",
        "\r\n",
        "\r\n",
        "reg.fit(x_train, y_train)\r\n",
        "\r\n",
        "y_pred = reg.predict(x_test)\r\n",
        "from sklearn.metrics import r2_score\r\n",
        "print('R2 score: {:.2f}'.format(r2_score(y_test, y_pred)))"
      ],
      "execution_count": 19,
      "outputs": [
        {
          "output_type": "stream",
          "text": [
            "R2 score: 0.24\n"
          ],
          "name": "stdout"
        }
      ]
    },
    {
      "cell_type": "code",
      "metadata": {
        "colab": {
          "base_uri": "https://localhost:8080/"
        },
        "id": "PmSnbugq4G1o",
        "outputId": "28f78e9b-cd26-4252-9e05-0486ea4211ff"
      },
      "source": [
        "from sklearn.ensemble import BaggingClassifier\r\n",
        "from sklearn.neighbors import KNeighborsClassifier\r\n",
        "bagging = BaggingClassifier(KNeighborsClassifier(),\r\n",
        "                            max_samples=0.6, max_features=0.6)\r\n",
        "\r\n",
        "bagging.fit(x_train, y_train)\r\n",
        "\r\n",
        "scores = cross_val_score(bagging, x_train, y_train, scoring='accuracy', cv=7)\r\n",
        "print(\"Accuracy: %0.3f (+/- %0.3f)\" % (scores.mean(), scores.std()))\r\n",
        "predict_scores = accuracy_score(y_test,bagging.predict(x_test))\r\n",
        "print(\"Predict on test data: %0.3f\" % predict_scores)"
      ],
      "execution_count": 55,
      "outputs": [
        {
          "output_type": "stream",
          "text": [
            "Accuracy: 0.871 (+/- 0.044)\n",
            "Predict on test data: 0.949\n"
          ],
          "name": "stdout"
        }
      ]
    },
    {
      "cell_type": "code",
      "metadata": {
        "colab": {
          "base_uri": "https://localhost:8080/",
          "height": 528
        },
        "id": "mBrNvseR7yTJ",
        "outputId": "ec046c8f-8c5c-459d-c68a-004974117091"
      },
      "source": [
        "plt.figure(figsize=(10, 10))\r\n",
        "ax1 = plt.subplot2grid((3, 1), (0, 0), rowspan=2)\r\n",
        "\r\n",
        "\r\n",
        "ax1.set_ylim([-0.05, 1.05])\r\n",
        "ax1.legend(loc=\"lower right\")\r\n",
        "ax1.set_title('Calibration plots  (reliability curve)')\r\n",
        "\r\n",
        "plt.tight_layout()\r\n",
        "plt.show()"
      ],
      "execution_count": 61,
      "outputs": [
        {
          "output_type": "stream",
          "text": [
            "No handles with labels found to put in legend.\n"
          ],
          "name": "stderr"
        },
        {
          "output_type": "display_data",
          "data": {
            "image/png": "[encoded data removed]",
            "text/plain": [
              "<Figure size 720x720 with 1 Axes>"
            ]
          },
          "metadata": {
            "tags": [],
            "needs_background": "light"
          }
        }
      ]
    },
    {
      "cell_type": "code",
      "metadata": {
        "colab": {
          "base_uri": "https://localhost:8080/"
        },
        "id": "H4Q7k1QB_ZeV",
        "outputId": "8357989c-0233-44d0-e8c9-4c08afeb3672"
      },
      "source": [
        "from sklearn import svm\r\n",
        "\r\n",
        "clf = svm.SVC(kernel='linear', C=1).fit(x_train, y_train)\r\n",
        "print(clf.score(x_test, y_test))\r\n",
        "scores = cross_val_score(clf, x_test, y_test, cv=7)\r\n",
        "print(\"Accuracy: %0.3f (+/- %0.3f) [%s]\" % (scores.mean(), scores.std(), label))"
      ],
      "execution_count": null,
      "outputs": [
        {
          "output_type": "stream",
          "text": [
            "0.9487179487179487\n",
            "Accuracy: 0.919 (+/- 0.094) [Gradient Boost]\n"
          ],
          "name": "stdout"
        }
      ]
    },
    {
      "cell_type": "markdown",
      "metadata": {
        "id": "3V03gS7XX9T0"
      },
      "source": [
        "## 3ak"
      ]
    },
    {
      "cell_type": "code",
      "metadata": {
        "colab": {
          "base_uri": "https://localhost:8080/"
        },
        "id": "ONmvp5dgSEzV",
        "outputId": "bdb3820f-1437-4488-ae25-db1ba0e81d5b"
      },
      "source": [
        "from sklearn.dummy import DummyClassifier\r\n",
        "\r\n",
        "dummy = DummyClassifier(strategy='uniform', random_state=1)\r\n",
        "dummy.fit(x_train, y_train)\r\n",
        "print(accuracy_score(y_test,dummy.predict(x_test)))"
      ],
      "execution_count": null,
      "outputs": [
        {
          "output_type": "stream",
          "text": [
            "0.46153846153846156\n"
          ],
          "name": "stdout"
        }
      ]
    },
    {
      "cell_type": "code",
      "metadata": {
        "id": "ollGayrSVBQl"
      },
      "source": [
        "minimal = mixat[['PPE', 'MDVP:RAP','MDVP:Fo(Hz)', 'RPDE']]\r\n",
        "\r\n",
        "x1_train, x1_test, y1_train, y1_test = train_test_split(minimal, target, shuffle= False, train_size = 0.8)"
      ],
      "execution_count": null,
      "outputs": []
    },
    {
      "cell_type": "code",
      "metadata": {
        "colab": {
          "base_uri": "https://localhost:8080/"
        },
        "id": "dpEeFuLHWROq",
        "outputId": "fe7d3210-b06f-461b-98b9-679614d17e96"
      },
      "source": [
        "from sklearn.tree import DecisionTreeClassifier\r\n",
        "from sklearn.model_selection import (cross_validate, cross_val_score, KFold,\r\n",
        "                                      train_test_split, StratifiedKFold, \r\n",
        "                                       StratifiedShuffleSplit)\r\n",
        "\r\n",
        "dt = DecisionTreeClassifier(min_samples_split = 40, max_depth = 50, random_state = 32)\r\n",
        "dt.fit(x_train, y_train)\r\n",
        "print(\"DT score: \", dt.score(x_test, y_test))\r\n",
        "print(\"Train score: \", cross_validate(dt, x_train, y_train)['test_score'].mean())\r\n",
        "print(\"Test score: \", cross_validate(dt, x_test, y_test)['test_score'].mean())"
      ],
      "execution_count": null,
      "outputs": [
        {
          "output_type": "stream",
          "text": [
            "DT score:  0.8717948717948718\n",
            "Train score:  0.8387096774193548\n",
            "Test score:  0.8214285714285714\n"
          ],
          "name": "stdout"
        }
      ]
    },
    {
      "cell_type": "code",
      "metadata": {
        "colab": {
          "base_uri": "https://localhost:8080/"
        },
        "id": "fNLAM1fxW5NR",
        "outputId": "f0af0af4-d743-43f1-c40d-83b69cefb09a"
      },
      "source": [
        "dummy = DummyClassifier(strategy='uniform', random_state=1)\r\n",
        "dummy.fit(x1_train, y1_train)\r\n",
        "dummy.score(x1_test, y1_test)"
      ],
      "execution_count": null,
      "outputs": [
        {
          "output_type": "execute_result",
          "data": {
            "text/plain": [
              "0.46153846153846156"
            ]
          },
          "metadata": {
            "tags": []
          },
          "execution_count": 133
        }
      ]
    },
    {
      "cell_type": "code",
      "metadata": {
        "colab": {
          "base_uri": "https://localhost:8080/"
        },
        "id": "vW95WMrJTKTe",
        "outputId": "b2149a33-212e-4b07-fcc1-17a0155801c6"
      },
      "source": [
        "from sklearn.tree import DecisionTreeClassifier\r\n",
        "from sklearn.model_selection import (cross_validate, cross_val_score, KFold,\r\n",
        "                                      train_test_split, StratifiedKFold, \r\n",
        "                                       StratifiedShuffleSplit)\r\n",
        "\r\n",
        "dt = DecisionTreeClassifier(min_samples_split = 40, max_depth = 50, random_state = 32)\r\n",
        "dt.fit(x_train, y_train)\r\n",
        "print(\"DT score: \", dt.score(x_test, y_test))\r\n",
        "print(\"Train score: \", cross_validate(dt, x_train, y_train)['test_score'].mean())\r\n",
        "print(\"Test score: \", cross_validate(dt, x_test, y_test)['test_score'].mean())"
      ],
      "execution_count": null,
      "outputs": [
        {
          "output_type": "stream",
          "text": [
            "DT score:  0.8717948717948718\n",
            "Train score:  0.8387096774193548\n",
            "Test score:  0.8214285714285714\n"
          ],
          "name": "stdout"
        }
      ]
    },
    {
      "cell_type": "code",
      "metadata": {
        "colab": {
          "base_uri": "https://localhost:8080/"
        },
        "id": "AsQqWsBCTTEx",
        "outputId": "54a2c055-bca7-4c3b-d5be-fe79c79af153"
      },
      "source": [
        "importances = dt.feature_importances_\r\n",
        "indices = np.argsort(importances)[::-1]\r\n",
        "\r\n",
        "\r\n",
        "features = list(mixat.columns[0:30])\r\n",
        "\r\n",
        "r = mixat[features]\r\n",
        "\r\n",
        "\r\n",
        "print(\"Feature ranking:\")\r\n",
        "for f in range(r.shape[1]):\r\n",
        "  print(\"%d. %s (%f)\" % (f + 1, features[indices[f]], importances[indices[f]]))\r\n"
      ],
      "execution_count": null,
      "outputs": [
        {
          "output_type": "stream",
          "text": [
            "Feature ranking:\n",
            "1. PPE (0.762908)\n",
            "2. MDVP:RAP (0.142336)\n",
            "3. MDVP:Fo(Hz) (0.079526)\n",
            "4. RPDE (0.015230)\n",
            "5. spread1 (0.000000)\n",
            "6. MDVP:Shimmer (0.000000)\n",
            "7. MDVP:Fhi(Hz) (0.000000)\n",
            "8. MDVP:Flo(Hz) (0.000000)\n",
            "9. MDVP:Jitter(%) (0.000000)\n",
            "10. MDVP:Jitter(Abs) (0.000000)\n",
            "11. spread2 (0.000000)\n",
            "12. MDVP:PPQ (0.000000)\n",
            "13. Jitter:DDP (0.000000)\n",
            "14. MDVP:Shimmer(dB) (0.000000)\n",
            "15. DFA (0.000000)\n",
            "16. D2 (0.000000)\n",
            "17. Shimmer:APQ5 (0.000000)\n",
            "18. MDVP:APQ (0.000000)\n",
            "19. Shimmer:DDA (0.000000)\n",
            "20. NHR (0.000000)\n",
            "21. HNR (0.000000)\n",
            "22. Shimmer:APQ3 (0.000000)\n"
          ],
          "name": "stdout"
        }
      ]
    },
    {
      "cell_type": "code",
      "metadata": {
        "colab": {
          "base_uri": "https://localhost:8080/"
        },
        "id": "VCAIDV-uXMO9",
        "outputId": "1d9f0c74-b93f-4847-9fa1-35c8839d2f8d"
      },
      "source": [
        "from sklearn.ensemble import RandomForestClassifier\r\n",
        "\r\n",
        "rf = RandomForestClassifier(n_estimators = 500, max_depth = 35, random_state = 32)\r\n",
        "rf.fit(x_train, y_train)\r\n",
        "print(\"DT score: \", rf.score(x_test, y_test))\r\n",
        "print(\"Train score: \", cross_validate(rf, x_train, y_train)['test_score'].mean())\r\n",
        "print(\"Test score: \", cross_validate(rf, x_test, y_test)['test_score'].mean())"
      ],
      "execution_count": null,
      "outputs": [
        {
          "output_type": "stream",
          "text": [
            "DT score:  0.9487179487179487\n",
            "Train score:  0.903225806451613\n",
            "Test score:  0.9214285714285714\n"
          ],
          "name": "stdout"
        }
      ]
    },
    {
      "cell_type": "code",
      "metadata": {
        "colab": {
          "base_uri": "https://localhost:8080/"
        },
        "id": "qkheCc3hXWtu",
        "outputId": "6b4e9c66-b7a3-423c-e0cd-6dedb0f4ea9d"
      },
      "source": [
        "rf = RandomForestClassifier(n_estimators = 500, max_depth = 35, random_state = 32)\r\n",
        "rf.fit(x1_train, y1_train)\r\n",
        "print(\"DT score: \", rf.score(x1_test, y1_test))\r\n",
        "print(\"Train score: \", cross_validate(rf, x1_train, y1_train)['test_score'].mean())\r\n",
        "print(\"Test score: \", cross_validate(rf, x1_test, y1_test)['test_score'].mean())"
      ],
      "execution_count": null,
      "outputs": [
        {
          "output_type": "stream",
          "text": [
            "DT score:  0.9487179487179487\n",
            "Train score:  0.9096774193548388\n",
            "Test score:  0.8964285714285714\n"
          ],
          "name": "stdout"
        }
      ]
    },
    {
      "cell_type": "code",
      "metadata": {
        "id": "Yx16es8gXq87"
      },
      "source": [
        ""
      ],
      "execution_count": null,
      "outputs": []
    }
  ]
}